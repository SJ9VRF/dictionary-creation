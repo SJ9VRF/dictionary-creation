{
 "cells": [
  {
   "cell_type": "code",
   "execution_count": null,
   "metadata": {},
   "outputs": [],
   "source": [
    "from bitarray import bitarray\n",
    "from bitstring import BitArray\n"
   ]
  },
  {
   "cell_type": "markdown",
   "metadata": {},
   "source": [
    "# Read words From File"
   ]
  },
  {
   "cell_type": "code",
   "execution_count": 1,
   "metadata": {},
   "outputs": [],
   "source": [
    "def file2list(add):\n",
    "    list_dic = []\n",
    "    with open(add, 'r') as f:\n",
    "        list_dic = f.readlines()\n",
    "    return list_dic"
   ]
  },
  {
   "cell_type": "markdown",
   "metadata": {},
   "source": [
    "# Create Query To write word in File"
   ]
  },
  {
   "cell_type": "code",
   "execution_count": null,
   "metadata": {},
   "outputs": [],
   "source": [
    "def item2query(word):\n",
    "    w_uuid = createUuid()\n",
    "    query = 'INSERT INTO `all_tokens`(id,token) VALUES (UUID,\"WORD\");'\n",
    "    target_qu = (query.replace('UUID', w_uuid)).replace('WORD',word)\n",
    "    return target_qu"
   ]
  },
  {
   "cell_type": "code",
   "execution_count": 2,
   "metadata": {},
   "outputs": [],
   "source": [
    "import uuid\n",
    "def createUuid():\n",
    "    theUUID = '0x'+str(uuid.uuid4()).replace('-','')\n",
    "    return theUUID"
   ]
  },
  {
   "cell_type": "markdown",
   "metadata": {},
   "source": [
    "# Setup of database to write in similarity"
   ]
  },
  {
   "cell_type": "code",
   "execution_count": null,
   "metadata": {},
   "outputs": [],
   "source": [
    "import mysql.connector as sql\n",
    "\n",
    "mydb = sql.connect(\n",
    "  host=\"localhost\",\n",
    "  user=\"admin\",\n",
    "  passwd=\"zXVcsN3n\",\n",
    "  database=\"Dictionary\"\n",
    ")\n",
    "\n",
    "mycursor = mydb.cursor()"
   ]
  },
  {
   "cell_type": "markdown",
   "metadata": {},
   "source": [
    "# Write works to Dictionary table"
   ]
  },
  {
   "cell_type": "code",
   "execution_count": null,
   "metadata": {},
   "outputs": [],
   "source": [
    "add_token = '/home/user/yavary/store_Prouct_Names.txt'\n",
    "token_list = file2list(add_token)\n",
    "for item in token_list:\n",
    "    Item = item.replace('\\n','')\n",
    "    if len(Item)>0:\n",
    "        print(Item)\n",
    "        the_qu = item2query(Item)\n",
    "        mycursor.execute(the_qu)\n",
    "        mydb.commit()"
   ]
  }
 ],
 "metadata": {
  "kernelspec": {
   "display_name": "Python 3",
   "language": "python",
   "name": "python3"
  },
  "language_info": {
   "codemirror_mode": {
    "name": "ipython",
    "version": 3
   },
   "file_extension": ".py",
   "mimetype": "text/x-python",
   "name": "python",
   "nbconvert_exporter": "python",
   "pygments_lexer": "ipython3",
   "version": "3.6.8"
  }
 },
 "nbformat": 4,
 "nbformat_minor": 2
}
